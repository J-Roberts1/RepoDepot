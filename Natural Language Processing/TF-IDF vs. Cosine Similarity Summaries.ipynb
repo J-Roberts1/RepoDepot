{
 "nbformat": 4,
 "nbformat_minor": 0,
 "metadata": {
  "colab": {
   "provenance": [],
   "collapsed_sections": []
  },
  "kernelspec": {
   "name": "python3",
   "display_name": "Python 3"
  },
  "language_info": {
   "name": "python"
  }
 },
 "cells": [
  {
   "cell_type": "markdown",
   "source": [
    "## **This program performs the following**: \n",
    "\n",
    "1. Places 5 articles into a dataframe\n",
    "2. Cleans the articles\n",
    "3. Uses Cosine Similarity to generate a summary for all 5 articles from the \"cleaned\" data\n",
    "4. Uses TF-IDF to generate a summary for all 5 \"cleaned\" articles\n",
    "5. Places all outputs into one dataframe to easily compare"
   ],
   "metadata": {
    "id": "OW28j1MGVFl2",
    "pycharm": {
     "name": "#%% md\n"
    }
   }
  },
  {
   "cell_type": "markdown",
   "source": [
    "# **Import Data**"
   ],
   "metadata": {
    "id": "Bf5gcSXVWWDQ",
    "pycharm": {
     "name": "#%% md\n"
    }
   }
  },
  {
   "cell_type": "code",
   "source": [
    "import nltk\n",
    "from nltk.stem import WordNetLemmatizer\n",
    "nltk.download('stopwords')"
   ],
   "metadata": {
    "id": "WuV9ekavX2G5",
    "pycharm": {
     "name": "#%%\n"
    }
   },
   "execution_count": null,
   "outputs": []
  },
  {
   "cell_type": "code",
   "execution_count": 2,
   "metadata": {
    "id": "eoytoJBMx7uT",
    "pycharm": {
     "name": "#%%\n"
    }
   },
   "outputs": [],
   "source": [
    "# Create list that will hold file names to be opened \n",
    "articles_list = []\n",
    "for i in range (1,6):\n",
    "    string=\"Article\"+str(i)+'.txt'\n",
    "    articles_list.append(string)\n",
    "    \n",
    "#articles_list[] = Article1.txt, Article2.txt, Article3.txt, ....."
   ]
  },
  {
   "cell_type": "code",
   "source": [
    "# Turn List to Dict. Needed becuase object 'i' in later used for loop needs to be iterable \n",
    "dictOfWords = { i : articles_list[i] for i in range(0, len(articles_list) ) }\n"
   ],
   "metadata": {
    "id": "bomeQcd1XtQz",
    "pycharm": {
     "name": "#%%\n"
    }
   },
   "execution_count": 3,
   "outputs": []
  },
  {
   "cell_type": "code",
   "source": [
    "#Create dataframe and use list values to populate \"Filename Column. Create null values for column with data that will later be populated\"\n",
    "import pandas as pd\n",
    "import numpy as np \n",
    "df = pd.DataFrame(articles_list, columns=['File name'])\n",
    "\n",
    "df['Content'] = np.nan\n",
    "\n",
    "df"
   ],
   "metadata": {
    "id": "iYu2R9-BVrj_",
    "colab": {
     "base_uri": "https://localhost:8080/",
     "height": 206
    },
    "outputId": "f168a402-a6bd-4364-815b-d2b9ba05cbec",
    "pycharm": {
     "name": "#%%\n"
    }
   },
   "execution_count": 4,
   "outputs": [
    {
     "output_type": "execute_result",
     "data": {
      "text/plain": [
       "      File name  Content\n",
       "0  Article1.txt      NaN\n",
       "1  Article2.txt      NaN\n",
       "2  Article3.txt      NaN\n",
       "3  Article4.txt      NaN\n",
       "4  Article5.txt      NaN"
      ],
      "text/html": [
       "\n",
       "  <div id=\"df-e1e1d611-9350-451e-94b3-5ad4a44f9220\">\n",
       "    <div class=\"colab-df-container\">\n",
       "      <div>\n",
       "<style scoped>\n",
       "    .dataframe tbody tr th:only-of-type {\n",
       "        vertical-align: middle;\n",
       "    }\n",
       "\n",
       "    .dataframe tbody tr th {\n",
       "        vertical-align: top;\n",
       "    }\n",
       "\n",
       "    .dataframe thead th {\n",
       "        text-align: right;\n",
       "    }\n",
       "</style>\n",
       "<table border=\"1\" class=\"dataframe\">\n",
       "  <thead>\n",
       "    <tr style=\"text-align: right;\">\n",
       "      <th></th>\n",
       "      <th>File name</th>\n",
       "      <th>Content</th>\n",
       "    </tr>\n",
       "  </thead>\n",
       "  <tbody>\n",
       "    <tr>\n",
       "      <th>0</th>\n",
       "      <td>Article1.txt</td>\n",
       "      <td>NaN</td>\n",
       "    </tr>\n",
       "    <tr>\n",
       "      <th>1</th>\n",
       "      <td>Article2.txt</td>\n",
       "      <td>NaN</td>\n",
       "    </tr>\n",
       "    <tr>\n",
       "      <th>2</th>\n",
       "      <td>Article3.txt</td>\n",
       "      <td>NaN</td>\n",
       "    </tr>\n",
       "    <tr>\n",
       "      <th>3</th>\n",
       "      <td>Article4.txt</td>\n",
       "      <td>NaN</td>\n",
       "    </tr>\n",
       "    <tr>\n",
       "      <th>4</th>\n",
       "      <td>Article5.txt</td>\n",
       "      <td>NaN</td>\n",
       "    </tr>\n",
       "  </tbody>\n",
       "</table>\n",
       "</div>\n",
       "      <button class=\"colab-df-convert\" onclick=\"convertToInteractive('df-e1e1d611-9350-451e-94b3-5ad4a44f9220')\"\n",
       "              title=\"Convert this dataframe to an interactive table.\"\n",
       "              style=\"display:none;\">\n",
       "        \n",
       "  <svg xmlns=\"http://www.w3.org/2000/svg\" height=\"24px\"viewBox=\"0 0 24 24\"\n",
       "       width=\"24px\">\n",
       "    <path d=\"M0 0h24v24H0V0z\" fill=\"none\"/>\n",
       "    <path d=\"M18.56 5.44l.94 2.06.94-2.06 2.06-.94-2.06-.94-.94-2.06-.94 2.06-2.06.94zm-11 1L8.5 8.5l.94-2.06 2.06-.94-2.06-.94L8.5 2.5l-.94 2.06-2.06.94zm10 10l.94 2.06.94-2.06 2.06-.94-2.06-.94-.94-2.06-.94 2.06-2.06.94z\"/><path d=\"M17.41 7.96l-1.37-1.37c-.4-.4-.92-.59-1.43-.59-.52 0-1.04.2-1.43.59L10.3 9.45l-7.72 7.72c-.78.78-.78 2.05 0 2.83L4 21.41c.39.39.9.59 1.41.59.51 0 1.02-.2 1.41-.59l7.78-7.78 2.81-2.81c.8-.78.8-2.07 0-2.86zM5.41 20L4 18.59l7.72-7.72 1.47 1.35L5.41 20z\"/>\n",
       "  </svg>\n",
       "      </button>\n",
       "      \n",
       "  <style>\n",
       "    .colab-df-container {\n",
       "      display:flex;\n",
       "      flex-wrap:wrap;\n",
       "      gap: 12px;\n",
       "    }\n",
       "\n",
       "    .colab-df-convert {\n",
       "      background-color: #E8F0FE;\n",
       "      border: none;\n",
       "      border-radius: 50%;\n",
       "      cursor: pointer;\n",
       "      display: none;\n",
       "      fill: #1967D2;\n",
       "      height: 32px;\n",
       "      padding: 0 0 0 0;\n",
       "      width: 32px;\n",
       "    }\n",
       "\n",
       "    .colab-df-convert:hover {\n",
       "      background-color: #E2EBFA;\n",
       "      box-shadow: 0px 1px 2px rgba(60, 64, 67, 0.3), 0px 1px 3px 1px rgba(60, 64, 67, 0.15);\n",
       "      fill: #174EA6;\n",
       "    }\n",
       "\n",
       "    [theme=dark] .colab-df-convert {\n",
       "      background-color: #3B4455;\n",
       "      fill: #D2E3FC;\n",
       "    }\n",
       "\n",
       "    [theme=dark] .colab-df-convert:hover {\n",
       "      background-color: #434B5C;\n",
       "      box-shadow: 0px 1px 3px 1px rgba(0, 0, 0, 0.15);\n",
       "      filter: drop-shadow(0px 1px 2px rgba(0, 0, 0, 0.3));\n",
       "      fill: #FFFFFF;\n",
       "    }\n",
       "  </style>\n",
       "\n",
       "      <script>\n",
       "        const buttonEl =\n",
       "          document.querySelector('#df-e1e1d611-9350-451e-94b3-5ad4a44f9220 button.colab-df-convert');\n",
       "        buttonEl.style.display =\n",
       "          google.colab.kernel.accessAllowed ? 'block' : 'none';\n",
       "\n",
       "        async function convertToInteractive(key) {\n",
       "          const element = document.querySelector('#df-e1e1d611-9350-451e-94b3-5ad4a44f9220');\n",
       "          const dataTable =\n",
       "            await google.colab.kernel.invokeFunction('convertToInteractive',\n",
       "                                                     [key], {});\n",
       "          if (!dataTable) return;\n",
       "\n",
       "          const docLinkHtml = 'Like what you see? Visit the ' +\n",
       "            '<a target=\"_blank\" href=https://colab.research.google.com/notebooks/data_table.ipynb>data table notebook</a>'\n",
       "            + ' to learn more about interactive tables.';\n",
       "          element.innerHTML = '';\n",
       "          dataTable['output_type'] = 'display_data';\n",
       "          await google.colab.output.renderOutput(dataTable, element);\n",
       "          const docLink = document.createElement('div');\n",
       "          docLink.innerHTML = docLinkHtml;\n",
       "          element.appendChild(docLink);\n",
       "        }\n",
       "      </script>\n",
       "    </div>\n",
       "  </div>\n",
       "  "
      ]
     },
     "metadata": {},
     "execution_count": 4
    }
   ]
  },
  {
   "cell_type": "code",
   "source": [
    "#create list to hold raw string values of data\n",
    "\n",
    "raw_article_ls = []"
   ],
   "metadata": {
    "id": "puj5nzvONfiz",
    "pycharm": {
     "name": "#%%\n"
    }
   },
   "execution_count": 5,
   "outputs": []
  },
  {
   "cell_type": "code",
   "source": [
    "# LET THE OPERATIONS BEGIN! \n",
    "\n",
    "for i in dictOfWords:\n",
    "  file = open('/content/Article_data/' + dictOfWords[i], \"r\")   # read files using names from dict\n",
    "  filedata = file.readlines()   # filedata is type: list\n",
    "  text = ''.join(filedata)      # text is the str of all joined items of list: filedata\n",
    "  raw_article_ls.append(text)   # Add text to list of raw strings to be used later\n",
    "\n",
    "  article = text.split(\". \")    #List that splits raw str values from 'text' into list values. seperated at the period\n",
    "  \n",
    "  df.iloc[i, df.columns.get_loc('Content')] = text    #Load raw text into datframe\n"
   ],
   "metadata": {
    "id": "cAKpvcNxVT-M",
    "pycharm": {
     "name": "#%%\n"
    }
   },
   "execution_count": 6,
   "outputs": []
  },
  {
   "cell_type": "code",
   "source": [
    "df"
   ],
   "metadata": {
    "colab": {
     "base_uri": "https://localhost:8080/",
     "height": 206
    },
    "id": "Q19cBSoc1ABT",
    "outputId": "856f2db3-b1be-4039-f935-30937f0724f8",
    "pycharm": {
     "name": "#%%\n"
    }
   },
   "execution_count": 7,
   "outputs": [
    {
     "output_type": "execute_result",
     "data": {
      "text/plain": [
       "      File name                                            Content\n",
       "0  Article1.txt  Wi-fi web reaches farmers in Peru\\n\\nA network...\n",
       "1  Article2.txt  Hewitt decries 'career sexism'\\n\\nPlans to ext...\n",
       "2  Article3.txt  Digital guru floats sub-$100 PC\\n\\nNicholas Ne...\n",
       "3  Article4.txt  Technology gets the creative bug\\n\\nThe hi-tec...\n",
       "4  Article5.txt  Solutions to net security fears\\n\\nFake bank e..."
      ],
      "text/html": [
       "\n",
       "  <div id=\"df-af954907-98e8-462b-a9f3-e25f89bd89b5\">\n",
       "    <div class=\"colab-df-container\">\n",
       "      <div>\n",
       "<style scoped>\n",
       "    .dataframe tbody tr th:only-of-type {\n",
       "        vertical-align: middle;\n",
       "    }\n",
       "\n",
       "    .dataframe tbody tr th {\n",
       "        vertical-align: top;\n",
       "    }\n",
       "\n",
       "    .dataframe thead th {\n",
       "        text-align: right;\n",
       "    }\n",
       "</style>\n",
       "<table border=\"1\" class=\"dataframe\">\n",
       "  <thead>\n",
       "    <tr style=\"text-align: right;\">\n",
       "      <th></th>\n",
       "      <th>File name</th>\n",
       "      <th>Content</th>\n",
       "    </tr>\n",
       "  </thead>\n",
       "  <tbody>\n",
       "    <tr>\n",
       "      <th>0</th>\n",
       "      <td>Article1.txt</td>\n",
       "      <td>Wi-fi web reaches farmers in Peru\\n\\nA network...</td>\n",
       "    </tr>\n",
       "    <tr>\n",
       "      <th>1</th>\n",
       "      <td>Article2.txt</td>\n",
       "      <td>Hewitt decries 'career sexism'\\n\\nPlans to ext...</td>\n",
       "    </tr>\n",
       "    <tr>\n",
       "      <th>2</th>\n",
       "      <td>Article3.txt</td>\n",
       "      <td>Digital guru floats sub-$100 PC\\n\\nNicholas Ne...</td>\n",
       "    </tr>\n",
       "    <tr>\n",
       "      <th>3</th>\n",
       "      <td>Article4.txt</td>\n",
       "      <td>Technology gets the creative bug\\n\\nThe hi-tec...</td>\n",
       "    </tr>\n",
       "    <tr>\n",
       "      <th>4</th>\n",
       "      <td>Article5.txt</td>\n",
       "      <td>Solutions to net security fears\\n\\nFake bank e...</td>\n",
       "    </tr>\n",
       "  </tbody>\n",
       "</table>\n",
       "</div>\n",
       "      <button class=\"colab-df-convert\" onclick=\"convertToInteractive('df-af954907-98e8-462b-a9f3-e25f89bd89b5')\"\n",
       "              title=\"Convert this dataframe to an interactive table.\"\n",
       "              style=\"display:none;\">\n",
       "        \n",
       "  <svg xmlns=\"http://www.w3.org/2000/svg\" height=\"24px\"viewBox=\"0 0 24 24\"\n",
       "       width=\"24px\">\n",
       "    <path d=\"M0 0h24v24H0V0z\" fill=\"none\"/>\n",
       "    <path d=\"M18.56 5.44l.94 2.06.94-2.06 2.06-.94-2.06-.94-.94-2.06-.94 2.06-2.06.94zm-11 1L8.5 8.5l.94-2.06 2.06-.94-2.06-.94L8.5 2.5l-.94 2.06-2.06.94zm10 10l.94 2.06.94-2.06 2.06-.94-2.06-.94-.94-2.06-.94 2.06-2.06.94z\"/><path d=\"M17.41 7.96l-1.37-1.37c-.4-.4-.92-.59-1.43-.59-.52 0-1.04.2-1.43.59L10.3 9.45l-7.72 7.72c-.78.78-.78 2.05 0 2.83L4 21.41c.39.39.9.59 1.41.59.51 0 1.02-.2 1.41-.59l7.78-7.78 2.81-2.81c.8-.78.8-2.07 0-2.86zM5.41 20L4 18.59l7.72-7.72 1.47 1.35L5.41 20z\"/>\n",
       "  </svg>\n",
       "      </button>\n",
       "      \n",
       "  <style>\n",
       "    .colab-df-container {\n",
       "      display:flex;\n",
       "      flex-wrap:wrap;\n",
       "      gap: 12px;\n",
       "    }\n",
       "\n",
       "    .colab-df-convert {\n",
       "      background-color: #E8F0FE;\n",
       "      border: none;\n",
       "      border-radius: 50%;\n",
       "      cursor: pointer;\n",
       "      display: none;\n",
       "      fill: #1967D2;\n",
       "      height: 32px;\n",
       "      padding: 0 0 0 0;\n",
       "      width: 32px;\n",
       "    }\n",
       "\n",
       "    .colab-df-convert:hover {\n",
       "      background-color: #E2EBFA;\n",
       "      box-shadow: 0px 1px 2px rgba(60, 64, 67, 0.3), 0px 1px 3px 1px rgba(60, 64, 67, 0.15);\n",
       "      fill: #174EA6;\n",
       "    }\n",
       "\n",
       "    [theme=dark] .colab-df-convert {\n",
       "      background-color: #3B4455;\n",
       "      fill: #D2E3FC;\n",
       "    }\n",
       "\n",
       "    [theme=dark] .colab-df-convert:hover {\n",
       "      background-color: #434B5C;\n",
       "      box-shadow: 0px 1px 3px 1px rgba(0, 0, 0, 0.15);\n",
       "      filter: drop-shadow(0px 1px 2px rgba(0, 0, 0, 0.3));\n",
       "      fill: #FFFFFF;\n",
       "    }\n",
       "  </style>\n",
       "\n",
       "      <script>\n",
       "        const buttonEl =\n",
       "          document.querySelector('#df-af954907-98e8-462b-a9f3-e25f89bd89b5 button.colab-df-convert');\n",
       "        buttonEl.style.display =\n",
       "          google.colab.kernel.accessAllowed ? 'block' : 'none';\n",
       "\n",
       "        async function convertToInteractive(key) {\n",
       "          const element = document.querySelector('#df-af954907-98e8-462b-a9f3-e25f89bd89b5');\n",
       "          const dataTable =\n",
       "            await google.colab.kernel.invokeFunction('convertToInteractive',\n",
       "                                                     [key], {});\n",
       "          if (!dataTable) return;\n",
       "\n",
       "          const docLinkHtml = 'Like what you see? Visit the ' +\n",
       "            '<a target=\"_blank\" href=https://colab.research.google.com/notebooks/data_table.ipynb>data table notebook</a>'\n",
       "            + ' to learn more about interactive tables.';\n",
       "          element.innerHTML = '';\n",
       "          dataTable['output_type'] = 'display_data';\n",
       "          await google.colab.output.renderOutput(dataTable, element);\n",
       "          const docLink = document.createElement('div');\n",
       "          docLink.innerHTML = docLinkHtml;\n",
       "          element.appendChild(docLink);\n",
       "        }\n",
       "      </script>\n",
       "    </div>\n",
       "  </div>\n",
       "  "
      ]
     },
     "metadata": {},
     "execution_count": 7
    }
   ]
  },
  {
   "cell_type": "markdown",
   "source": [
    "# **Clean Data**\n",
    "\n",
    "Clean Data Special Characters"
   ],
   "metadata": {
    "id": "4tdjCXhBYUWN",
    "pycharm": {
     "name": "#%% md\n"
    }
   }
  },
  {
   "cell_type": "code",
   "source": [
    "df['Content_Parsed_1'] = df['Content'].str.replace(\"\\r\", \" \")\n",
    "df['Content_Parsed_1'] = df['Content_Parsed_1'].str.replace(\"    \", \" \")"
   ],
   "metadata": {
    "id": "B1BwkysfYIAL",
    "pycharm": {
     "name": "#%%\n"
    }
   },
   "execution_count": 8,
   "outputs": []
  },
  {
   "cell_type": "markdown",
   "source": [
    "Clean data - Uppercase to downcase"
   ],
   "metadata": {
    "id": "ABY_7yw4Y50b",
    "pycharm": {
     "name": "#%% md\n"
    }
   }
  },
  {
   "cell_type": "code",
   "source": [
    "df['Content_Parsed_2'] = df['Content_Parsed_1'].str.lower()"
   ],
   "metadata": {
    "id": "-uV9-7eNYxIm",
    "pycharm": {
     "name": "#%%\n"
    }
   },
   "execution_count": 9,
   "outputs": []
  },
  {
   "cell_type": "markdown",
   "source": [
    "Clean Data - Punctuation "
   ],
   "metadata": {
    "id": "azCnQ0uPZEOi",
    "pycharm": {
     "name": "#%% md\n"
    }
   }
  },
  {
   "cell_type": "code",
   "source": [
    "punctuation_signs = list(\"?:!,;\")\n",
    "df['Content_Parsed_3'] = df['Content_Parsed_2']\n",
    "\n",
    "for punct_sign in punctuation_signs:\n",
    "    df['Content_Parsed_3'] = df['Content_Parsed_3'].str.replace(punct_sign, '')"
   ],
   "metadata": {
    "colab": {
     "base_uri": "https://localhost:8080/"
    },
    "id": "FarlR22fZOb8",
    "outputId": "37ddeb1b-b6ee-4d3d-aecb-acd3d8966296",
    "pycharm": {
     "name": "#%%\n"
    }
   },
   "execution_count": 10,
   "outputs": [
    {
     "output_type": "stream",
     "name": "stderr",
     "text": [
      "/usr/local/lib/python3.7/dist-packages/ipykernel_launcher.py:5: FutureWarning: The default value of regex will change from True to False in a future version. In addition, single character regular expressions will *not* be treated as literal strings when regex=True.\n",
      "  \"\"\"\n"
     ]
    }
   ]
  },
  {
   "cell_type": "markdown",
   "source": [
    "Clean data - Possessive pronouns"
   ],
   "metadata": {
    "id": "6oa5a5UHaVNv",
    "pycharm": {
     "name": "#%% md\n"
    }
   }
  },
  {
   "cell_type": "code",
   "source": [
    "df['Content_Parsed_4'] = df['Content_Parsed_3'].str.replace(\"'s\", \"\")"
   ],
   "metadata": {
    "id": "WTRd0xO-aama",
    "pycharm": {
     "name": "#%%\n"
    }
   },
   "execution_count": 11,
   "outputs": []
  },
  {
   "cell_type": "markdown",
   "source": [
    "Clean Data - Stemming and Lemmatization\n"
   ],
   "metadata": {
    "id": "Pcx-14QPadoN",
    "pycharm": {
     "name": "#%% md\n"
    }
   }
  },
  {
   "cell_type": "code",
   "source": [
    "nltk.download('punkt')\n",
    "print(\"------------------------------------------------------------\")\n",
    "nltk.download('wordnet')"
   ],
   "metadata": {
    "id": "PlHgTuVNaigN",
    "colab": {
     "base_uri": "https://localhost:8080/"
    },
    "outputId": "930e7ae6-4ae7-4bae-f6f5-ac547755ea3e",
    "pycharm": {
     "name": "#%%\n"
    }
   },
   "execution_count": 12,
   "outputs": [
    {
     "output_type": "stream",
     "name": "stderr",
     "text": [
      "[nltk_data] Downloading package punkt to /root/nltk_data...\n",
      "[nltk_data]   Unzipping tokenizers/punkt.zip.\n"
     ]
    },
    {
     "output_type": "stream",
     "name": "stdout",
     "text": [
      "------------------------------------------------------------\n"
     ]
    },
    {
     "output_type": "stream",
     "name": "stderr",
     "text": [
      "[nltk_data] Downloading package wordnet to /root/nltk_data...\n"
     ]
    },
    {
     "output_type": "execute_result",
     "data": {
      "text/plain": [
       "True"
      ]
     },
     "metadata": {},
     "execution_count": 12
    }
   ]
  },
  {
   "cell_type": "code",
   "source": [
    "wordnet_lemmatizer = WordNetLemmatizer()\n"
   ],
   "metadata": {
    "id": "yi5rqbkcamsg",
    "pycharm": {
     "name": "#%%\n"
    }
   },
   "execution_count": 13,
   "outputs": []
  },
  {
   "cell_type": "code",
   "source": [
    "nltk.download('omw-1.4')"
   ],
   "metadata": {
    "id": "7SHUylP0bCXv",
    "colab": {
     "base_uri": "https://localhost:8080/"
    },
    "outputId": "f38f940b-7e6e-427d-fbe8-f5c30387b7aa",
    "pycharm": {
     "name": "#%%\n"
    }
   },
   "execution_count": 14,
   "outputs": [
    {
     "output_type": "stream",
     "name": "stderr",
     "text": [
      "[nltk_data] Downloading package omw-1.4 to /root/nltk_data...\n"
     ]
    },
    {
     "output_type": "execute_result",
     "data": {
      "text/plain": [
       "True"
      ]
     },
     "metadata": {},
     "execution_count": 14
    }
   ]
  },
  {
   "cell_type": "code",
   "source": [
    "nrows = len(df)\n",
    "lemmatized_text_list = []\n",
    "\n",
    "for row in range(0, nrows):\n",
    "    \n",
    "    # Create an empty list containing lemmatized words\n",
    "    lemmatized_list = []\n",
    "    \n",
    "    # Save the text and its words into an object\n",
    "    text = df.loc[row]['Content_Parsed_4']\n",
    "    text_words = text.split(\" \")\n",
    "\n",
    "    # Iterate through every word to lemmatize\n",
    "    for word in text_words:\n",
    "        lemmatized_list.append(wordnet_lemmatizer.lemmatize(word, pos=\"v\"))\n",
    "        \n",
    "    # Join the list\n",
    "    lemmatized_text = \" \".join(lemmatized_list)\n",
    "    \n",
    "    # Append to the list containing the texts\n",
    "    lemmatized_text_list.append(lemmatized_text)"
   ],
   "metadata": {
    "id": "jZymVofhbIdL",
    "pycharm": {
     "name": "#%%\n"
    }
   },
   "execution_count": 15,
   "outputs": []
  },
  {
   "cell_type": "code",
   "source": [
    "df['Content_Parsed_5'] = lemmatized_text_list\n"
   ],
   "metadata": {
    "id": "1kU_Lv1UbL67",
    "pycharm": {
     "name": "#%%\n"
    }
   },
   "execution_count": 16,
   "outputs": []
  },
  {
   "cell_type": "markdown",
   "source": [
    "CLEAN - Stop Words"
   ],
   "metadata": {
    "id": "AmAv4msWbOR_",
    "pycharm": {
     "name": "#%% md\n"
    }
   }
  },
  {
   "cell_type": "code",
   "source": [
    "from nltk.corpus import stopwords\n",
    "nltk.download('stopwords')"
   ],
   "metadata": {
    "id": "bphjumX_bT6T",
    "colab": {
     "base_uri": "https://localhost:8080/"
    },
    "outputId": "4caa50b8-ce3b-4e24-cebe-2d70f81b5313",
    "pycharm": {
     "name": "#%%\n"
    }
   },
   "execution_count": 17,
   "outputs": [
    {
     "output_type": "stream",
     "name": "stderr",
     "text": [
      "[nltk_data] Downloading package stopwords to /root/nltk_data...\n",
      "[nltk_data]   Package stopwords is already up-to-date!\n"
     ]
    },
    {
     "output_type": "execute_result",
     "data": {
      "text/plain": [
       "True"
      ]
     },
     "metadata": {},
     "execution_count": 17
    }
   ]
  },
  {
   "cell_type": "code",
   "source": [
    "stop_words = list(stopwords.words('english'))"
   ],
   "metadata": {
    "id": "DUBXejcxba0a",
    "pycharm": {
     "name": "#%%\n"
    }
   },
   "execution_count": 18,
   "outputs": []
  },
  {
   "cell_type": "code",
   "source": [
    "df['Content_Parsed_6'] = df['Content_Parsed_5']\n",
    "\n",
    "for stop_word in stop_words:\n",
    "\n",
    "    regex_stopword = r\"\\b\" + stop_word + r\"\\b\"\n",
    "    df['Content_Parsed_6'] = df['Content_Parsed_6'].str.replace(regex_stopword, '')"
   ],
   "metadata": {
    "id": "hMbMOjZBbd4Y",
    "colab": {
     "base_uri": "https://localhost:8080/"
    },
    "outputId": "6e3affc3-7b8a-49f3-a360-77c2c0a66546",
    "pycharm": {
     "name": "#%%\n"
    }
   },
   "execution_count": 19,
   "outputs": [
    {
     "output_type": "stream",
     "name": "stderr",
     "text": [
      "/usr/local/lib/python3.7/dist-packages/ipykernel_launcher.py:6: FutureWarning: The default value of regex will change from True to False in a future version.\n",
      "  \n"
     ]
    }
   ]
  },
  {
   "cell_type": "code",
   "source": [
    "df['Content_Parsed_7'] = np.nan"
   ],
   "metadata": {
    "id": "IbhcQwrjHH2z",
    "pycharm": {
     "name": "#%%\n"
    }
   },
   "execution_count": 20,
   "outputs": []
  },
  {
   "cell_type": "markdown",
   "source": [
    "Remove extra spaces left from data cleaning "
   ],
   "metadata": {
    "id": "bp3dxusVI0KO",
    "pycharm": {
     "name": "#%% md\n"
    }
   }
  },
  {
   "cell_type": "code",
   "source": [
    "import re\n",
    "for i in range(len(df)):\n",
    "  cell = df.iat[i,7]\n",
    "\n",
    "  df.iat[i,8] = re.sub(' +', ' ', str(cell))"
   ],
   "metadata": {
    "id": "VjkCNEC7fF_a",
    "pycharm": {
     "name": "#%%\n"
    }
   },
   "execution_count": 21,
   "outputs": []
  },
  {
   "cell_type": "markdown",
   "source": [
    "Rename fully cleaned column to \"Content_Cleaned\""
   ],
   "metadata": {
    "id": "Q3fbVdnVI7nJ",
    "pycharm": {
     "name": "#%% md\n"
    }
   }
  },
  {
   "cell_type": "code",
   "source": [
    "list_columns = [\"File name\", \"Content\",\"Content_Parsed_7\"]\n",
    "df = df[list_columns]\n",
    "\n",
    "df = df.rename(columns={'Content_Parsed_7': 'Content_Cleaned'})"
   ],
   "metadata": {
    "id": "77i2NB8qbmzV",
    "pycharm": {
     "name": "#%%\n"
    }
   },
   "execution_count": 22,
   "outputs": []
  },
  {
   "cell_type": "code",
   "source": [
    "df"
   ],
   "metadata": {
    "colab": {
     "base_uri": "https://localhost:8080/",
     "height": 206
    },
    "id": "5HQq0J-HdkTa",
    "outputId": "f0d94d21-ceb1-4e42-da07-95416886ff18",
    "pycharm": {
     "name": "#%%\n"
    }
   },
   "execution_count": 23,
   "outputs": [
    {
     "output_type": "execute_result",
     "data": {
      "text/plain": [
       "      File name                                            Content  \\\n",
       "0  Article1.txt  Wi-fi web reaches farmers in Peru\\n\\nA network...   \n",
       "1  Article2.txt  Hewitt decries 'career sexism'\\n\\nPlans to ext...   \n",
       "2  Article3.txt  Digital guru floats sub-$100 PC\\n\\nNicholas Ne...   \n",
       "3  Article4.txt  Technology gets the creative bug\\n\\nThe hi-tec...   \n",
       "4  Article5.txt  Solutions to net security fears\\n\\nFake bank e...   \n",
       "\n",
       "                                     Content_Cleaned  \n",
       "0  wi-fi web reach farmers peru\\n\\n network commu...  \n",
       "1  hewitt decry 'career sexism'\\n\\nplans extend p...  \n",
       "2  digital guru float sub-$100 pc\\n\\nnicholas neg...  \n",
       "3  technology get creative bug\\n\\n hi-tech arts w...  \n",
       "4  solutions net security fears\\n\\nfake bank e-ma...  "
      ],
      "text/html": [
       "\n",
       "  <div id=\"df-1899f32d-8546-4cc2-945a-fa60032c52c0\">\n",
       "    <div class=\"colab-df-container\">\n",
       "      <div>\n",
       "<style scoped>\n",
       "    .dataframe tbody tr th:only-of-type {\n",
       "        vertical-align: middle;\n",
       "    }\n",
       "\n",
       "    .dataframe tbody tr th {\n",
       "        vertical-align: top;\n",
       "    }\n",
       "\n",
       "    .dataframe thead th {\n",
       "        text-align: right;\n",
       "    }\n",
       "</style>\n",
       "<table border=\"1\" class=\"dataframe\">\n",
       "  <thead>\n",
       "    <tr style=\"text-align: right;\">\n",
       "      <th></th>\n",
       "      <th>File name</th>\n",
       "      <th>Content</th>\n",
       "      <th>Content_Cleaned</th>\n",
       "    </tr>\n",
       "  </thead>\n",
       "  <tbody>\n",
       "    <tr>\n",
       "      <th>0</th>\n",
       "      <td>Article1.txt</td>\n",
       "      <td>Wi-fi web reaches farmers in Peru\\n\\nA network...</td>\n",
       "      <td>wi-fi web reach farmers peru\\n\\n network commu...</td>\n",
       "    </tr>\n",
       "    <tr>\n",
       "      <th>1</th>\n",
       "      <td>Article2.txt</td>\n",
       "      <td>Hewitt decries 'career sexism'\\n\\nPlans to ext...</td>\n",
       "      <td>hewitt decry 'career sexism'\\n\\nplans extend p...</td>\n",
       "    </tr>\n",
       "    <tr>\n",
       "      <th>2</th>\n",
       "      <td>Article3.txt</td>\n",
       "      <td>Digital guru floats sub-$100 PC\\n\\nNicholas Ne...</td>\n",
       "      <td>digital guru float sub-$100 pc\\n\\nnicholas neg...</td>\n",
       "    </tr>\n",
       "    <tr>\n",
       "      <th>3</th>\n",
       "      <td>Article4.txt</td>\n",
       "      <td>Technology gets the creative bug\\n\\nThe hi-tec...</td>\n",
       "      <td>technology get creative bug\\n\\n hi-tech arts w...</td>\n",
       "    </tr>\n",
       "    <tr>\n",
       "      <th>4</th>\n",
       "      <td>Article5.txt</td>\n",
       "      <td>Solutions to net security fears\\n\\nFake bank e...</td>\n",
       "      <td>solutions net security fears\\n\\nfake bank e-ma...</td>\n",
       "    </tr>\n",
       "  </tbody>\n",
       "</table>\n",
       "</div>\n",
       "      <button class=\"colab-df-convert\" onclick=\"convertToInteractive('df-1899f32d-8546-4cc2-945a-fa60032c52c0')\"\n",
       "              title=\"Convert this dataframe to an interactive table.\"\n",
       "              style=\"display:none;\">\n",
       "        \n",
       "  <svg xmlns=\"http://www.w3.org/2000/svg\" height=\"24px\"viewBox=\"0 0 24 24\"\n",
       "       width=\"24px\">\n",
       "    <path d=\"M0 0h24v24H0V0z\" fill=\"none\"/>\n",
       "    <path d=\"M18.56 5.44l.94 2.06.94-2.06 2.06-.94-2.06-.94-.94-2.06-.94 2.06-2.06.94zm-11 1L8.5 8.5l.94-2.06 2.06-.94-2.06-.94L8.5 2.5l-.94 2.06-2.06.94zm10 10l.94 2.06.94-2.06 2.06-.94-2.06-.94-.94-2.06-.94 2.06-2.06.94z\"/><path d=\"M17.41 7.96l-1.37-1.37c-.4-.4-.92-.59-1.43-.59-.52 0-1.04.2-1.43.59L10.3 9.45l-7.72 7.72c-.78.78-.78 2.05 0 2.83L4 21.41c.39.39.9.59 1.41.59.51 0 1.02-.2 1.41-.59l7.78-7.78 2.81-2.81c.8-.78.8-2.07 0-2.86zM5.41 20L4 18.59l7.72-7.72 1.47 1.35L5.41 20z\"/>\n",
       "  </svg>\n",
       "      </button>\n",
       "      \n",
       "  <style>\n",
       "    .colab-df-container {\n",
       "      display:flex;\n",
       "      flex-wrap:wrap;\n",
       "      gap: 12px;\n",
       "    }\n",
       "\n",
       "    .colab-df-convert {\n",
       "      background-color: #E8F0FE;\n",
       "      border: none;\n",
       "      border-radius: 50%;\n",
       "      cursor: pointer;\n",
       "      display: none;\n",
       "      fill: #1967D2;\n",
       "      height: 32px;\n",
       "      padding: 0 0 0 0;\n",
       "      width: 32px;\n",
       "    }\n",
       "\n",
       "    .colab-df-convert:hover {\n",
       "      background-color: #E2EBFA;\n",
       "      box-shadow: 0px 1px 2px rgba(60, 64, 67, 0.3), 0px 1px 3px 1px rgba(60, 64, 67, 0.15);\n",
       "      fill: #174EA6;\n",
       "    }\n",
       "\n",
       "    [theme=dark] .colab-df-convert {\n",
       "      background-color: #3B4455;\n",
       "      fill: #D2E3FC;\n",
       "    }\n",
       "\n",
       "    [theme=dark] .colab-df-convert:hover {\n",
       "      background-color: #434B5C;\n",
       "      box-shadow: 0px 1px 3px 1px rgba(0, 0, 0, 0.15);\n",
       "      filter: drop-shadow(0px 1px 2px rgba(0, 0, 0, 0.3));\n",
       "      fill: #FFFFFF;\n",
       "    }\n",
       "  </style>\n",
       "\n",
       "      <script>\n",
       "        const buttonEl =\n",
       "          document.querySelector('#df-1899f32d-8546-4cc2-945a-fa60032c52c0 button.colab-df-convert');\n",
       "        buttonEl.style.display =\n",
       "          google.colab.kernel.accessAllowed ? 'block' : 'none';\n",
       "\n",
       "        async function convertToInteractive(key) {\n",
       "          const element = document.querySelector('#df-1899f32d-8546-4cc2-945a-fa60032c52c0');\n",
       "          const dataTable =\n",
       "            await google.colab.kernel.invokeFunction('convertToInteractive',\n",
       "                                                     [key], {});\n",
       "          if (!dataTable) return;\n",
       "\n",
       "          const docLinkHtml = 'Like what you see? Visit the ' +\n",
       "            '<a target=\"_blank\" href=https://colab.research.google.com/notebooks/data_table.ipynb>data table notebook</a>'\n",
       "            + ' to learn more about interactive tables.';\n",
       "          element.innerHTML = '';\n",
       "          dataTable['output_type'] = 'display_data';\n",
       "          await google.colab.output.renderOutput(dataTable, element);\n",
       "          const docLink = document.createElement('div');\n",
       "          docLink.innerHTML = docLinkHtml;\n",
       "          element.appendChild(docLink);\n",
       "        }\n",
       "      </script>\n",
       "    </div>\n",
       "  </div>\n",
       "  "
      ]
     },
     "metadata": {},
     "execution_count": 23
    }
   ]
  },
  {
   "cell_type": "markdown",
   "source": [
    "# **Summary w/ Cosine Similarity Method**"
   ],
   "metadata": {
    "id": "FjFAHnRbaB_c",
    "pycharm": {
     "name": "#%% md\n"
    }
   }
  },
  {
   "cell_type": "code",
   "source": [
    "df['Cosine-Similarity Summary'] = np.nan"
   ],
   "metadata": {
    "id": "CiFjgzC7eSIV",
    "pycharm": {
     "name": "#%%\n"
    }
   },
   "execution_count": 24,
   "outputs": []
  },
  {
   "cell_type": "code",
   "source": [
    "df"
   ],
   "metadata": {
    "colab": {
     "base_uri": "https://localhost:8080/",
     "height": 206
    },
    "id": "9T16z2ZPeWKj",
    "outputId": "95612c46-1ace-4598-d159-0aaa8d46d1a0",
    "pycharm": {
     "name": "#%%\n"
    }
   },
   "execution_count": 25,
   "outputs": [
    {
     "output_type": "execute_result",
     "data": {
      "text/plain": [
       "      File name                                            Content  \\\n",
       "0  Article1.txt  Wi-fi web reaches farmers in Peru\\n\\nA network...   \n",
       "1  Article2.txt  Hewitt decries 'career sexism'\\n\\nPlans to ext...   \n",
       "2  Article3.txt  Digital guru floats sub-$100 PC\\n\\nNicholas Ne...   \n",
       "3  Article4.txt  Technology gets the creative bug\\n\\nThe hi-tec...   \n",
       "4  Article5.txt  Solutions to net security fears\\n\\nFake bank e...   \n",
       "\n",
       "                                     Content_Cleaned  \\\n",
       "0  wi-fi web reach farmers peru\\n\\n network commu...   \n",
       "1  hewitt decry 'career sexism'\\n\\nplans extend p...   \n",
       "2  digital guru float sub-$100 pc\\n\\nnicholas neg...   \n",
       "3  technology get creative bug\\n\\n hi-tech arts w...   \n",
       "4  solutions net security fears\\n\\nfake bank e-ma...   \n",
       "\n",
       "   Cosine-Similarity Summary  \n",
       "0                        NaN  \n",
       "1                        NaN  \n",
       "2                        NaN  \n",
       "3                        NaN  \n",
       "4                        NaN  "
      ],
      "text/html": [
       "\n",
       "  <div id=\"df-fb60cee0-e479-4c9c-863a-8ae7223a5a27\">\n",
       "    <div class=\"colab-df-container\">\n",
       "      <div>\n",
       "<style scoped>\n",
       "    .dataframe tbody tr th:only-of-type {\n",
       "        vertical-align: middle;\n",
       "    }\n",
       "\n",
       "    .dataframe tbody tr th {\n",
       "        vertical-align: top;\n",
       "    }\n",
       "\n",
       "    .dataframe thead th {\n",
       "        text-align: right;\n",
       "    }\n",
       "</style>\n",
       "<table border=\"1\" class=\"dataframe\">\n",
       "  <thead>\n",
       "    <tr style=\"text-align: right;\">\n",
       "      <th></th>\n",
       "      <th>File name</th>\n",
       "      <th>Content</th>\n",
       "      <th>Content_Cleaned</th>\n",
       "      <th>Cosine-Similarity Summary</th>\n",
       "    </tr>\n",
       "  </thead>\n",
       "  <tbody>\n",
       "    <tr>\n",
       "      <th>0</th>\n",
       "      <td>Article1.txt</td>\n",
       "      <td>Wi-fi web reaches farmers in Peru\\n\\nA network...</td>\n",
       "      <td>wi-fi web reach farmers peru\\n\\n network commu...</td>\n",
       "      <td>NaN</td>\n",
       "    </tr>\n",
       "    <tr>\n",
       "      <th>1</th>\n",
       "      <td>Article2.txt</td>\n",
       "      <td>Hewitt decries 'career sexism'\\n\\nPlans to ext...</td>\n",
       "      <td>hewitt decry 'career sexism'\\n\\nplans extend p...</td>\n",
       "      <td>NaN</td>\n",
       "    </tr>\n",
       "    <tr>\n",
       "      <th>2</th>\n",
       "      <td>Article3.txt</td>\n",
       "      <td>Digital guru floats sub-$100 PC\\n\\nNicholas Ne...</td>\n",
       "      <td>digital guru float sub-$100 pc\\n\\nnicholas neg...</td>\n",
       "      <td>NaN</td>\n",
       "    </tr>\n",
       "    <tr>\n",
       "      <th>3</th>\n",
       "      <td>Article4.txt</td>\n",
       "      <td>Technology gets the creative bug\\n\\nThe hi-tec...</td>\n",
       "      <td>technology get creative bug\\n\\n hi-tech arts w...</td>\n",
       "      <td>NaN</td>\n",
       "    </tr>\n",
       "    <tr>\n",
       "      <th>4</th>\n",
       "      <td>Article5.txt</td>\n",
       "      <td>Solutions to net security fears\\n\\nFake bank e...</td>\n",
       "      <td>solutions net security fears\\n\\nfake bank e-ma...</td>\n",
       "      <td>NaN</td>\n",
       "    </tr>\n",
       "  </tbody>\n",
       "</table>\n",
       "</div>\n",
       "      <button class=\"colab-df-convert\" onclick=\"convertToInteractive('df-fb60cee0-e479-4c9c-863a-8ae7223a5a27')\"\n",
       "              title=\"Convert this dataframe to an interactive table.\"\n",
       "              style=\"display:none;\">\n",
       "        \n",
       "  <svg xmlns=\"http://www.w3.org/2000/svg\" height=\"24px\"viewBox=\"0 0 24 24\"\n",
       "       width=\"24px\">\n",
       "    <path d=\"M0 0h24v24H0V0z\" fill=\"none\"/>\n",
       "    <path d=\"M18.56 5.44l.94 2.06.94-2.06 2.06-.94-2.06-.94-.94-2.06-.94 2.06-2.06.94zm-11 1L8.5 8.5l.94-2.06 2.06-.94-2.06-.94L8.5 2.5l-.94 2.06-2.06.94zm10 10l.94 2.06.94-2.06 2.06-.94-2.06-.94-.94-2.06-.94 2.06-2.06.94z\"/><path d=\"M17.41 7.96l-1.37-1.37c-.4-.4-.92-.59-1.43-.59-.52 0-1.04.2-1.43.59L10.3 9.45l-7.72 7.72c-.78.78-.78 2.05 0 2.83L4 21.41c.39.39.9.59 1.41.59.51 0 1.02-.2 1.41-.59l7.78-7.78 2.81-2.81c.8-.78.8-2.07 0-2.86zM5.41 20L4 18.59l7.72-7.72 1.47 1.35L5.41 20z\"/>\n",
       "  </svg>\n",
       "      </button>\n",
       "      \n",
       "  <style>\n",
       "    .colab-df-container {\n",
       "      display:flex;\n",
       "      flex-wrap:wrap;\n",
       "      gap: 12px;\n",
       "    }\n",
       "\n",
       "    .colab-df-convert {\n",
       "      background-color: #E8F0FE;\n",
       "      border: none;\n",
       "      border-radius: 50%;\n",
       "      cursor: pointer;\n",
       "      display: none;\n",
       "      fill: #1967D2;\n",
       "      height: 32px;\n",
       "      padding: 0 0 0 0;\n",
       "      width: 32px;\n",
       "    }\n",
       "\n",
       "    .colab-df-convert:hover {\n",
       "      background-color: #E2EBFA;\n",
       "      box-shadow: 0px 1px 2px rgba(60, 64, 67, 0.3), 0px 1px 3px 1px rgba(60, 64, 67, 0.15);\n",
       "      fill: #174EA6;\n",
       "    }\n",
       "\n",
       "    [theme=dark] .colab-df-convert {\n",
       "      background-color: #3B4455;\n",
       "      fill: #D2E3FC;\n",
       "    }\n",
       "\n",
       "    [theme=dark] .colab-df-convert:hover {\n",
       "      background-color: #434B5C;\n",
       "      box-shadow: 0px 1px 3px 1px rgba(0, 0, 0, 0.15);\n",
       "      filter: drop-shadow(0px 1px 2px rgba(0, 0, 0, 0.3));\n",
       "      fill: #FFFFFF;\n",
       "    }\n",
       "  </style>\n",
       "\n",
       "      <script>\n",
       "        const buttonEl =\n",
       "          document.querySelector('#df-fb60cee0-e479-4c9c-863a-8ae7223a5a27 button.colab-df-convert');\n",
       "        buttonEl.style.display =\n",
       "          google.colab.kernel.accessAllowed ? 'block' : 'none';\n",
       "\n",
       "        async function convertToInteractive(key) {\n",
       "          const element = document.querySelector('#df-fb60cee0-e479-4c9c-863a-8ae7223a5a27');\n",
       "          const dataTable =\n",
       "            await google.colab.kernel.invokeFunction('convertToInteractive',\n",
       "                                                     [key], {});\n",
       "          if (!dataTable) return;\n",
       "\n",
       "          const docLinkHtml = 'Like what you see? Visit the ' +\n",
       "            '<a target=\"_blank\" href=https://colab.research.google.com/notebooks/data_table.ipynb>data table notebook</a>'\n",
       "            + ' to learn more about interactive tables.';\n",
       "          element.innerHTML = '';\n",
       "          dataTable['output_type'] = 'display_data';\n",
       "          await google.colab.output.renderOutput(dataTable, element);\n",
       "          const docLink = document.createElement('div');\n",
       "          docLink.innerHTML = docLinkHtml;\n",
       "          element.appendChild(docLink);\n",
       "        }\n",
       "      </script>\n",
       "    </div>\n",
       "  </div>\n",
       "  "
      ]
     },
     "metadata": {},
     "execution_count": 25
    }
   ]
  },
  {
   "cell_type": "code",
   "source": [
    "cleaned_article_ls = []"
   ],
   "metadata": {
    "id": "-_Bn-MVdqZHS",
    "pycharm": {
     "name": "#%%\n"
    }
   },
   "execution_count": 26,
   "outputs": []
  },
  {
   "cell_type": "code",
   "source": [
    "for i in range(len(df)):\n",
    "  cleaned_article_ls.append(df.iloc[i]['Content_Cleaned'])"
   ],
   "metadata": {
    "id": "T-8Fkqbzz96H",
    "pycharm": {
     "name": "#%%\n"
    }
   },
   "execution_count": 27,
   "outputs": []
  },
  {
   "cell_type": "code",
   "source": [
    "send_to_df_lis = []"
   ],
   "metadata": {
    "id": "MTx8U-QOOsVq",
    "pycharm": {
     "name": "#%%\n"
    }
   },
   "execution_count": 28,
   "outputs": []
  },
  {
   "cell_type": "code",
   "source": [
    "from nltk.corpus import stopwords\n",
    "from nltk.cluster.util import cosine_distance\n",
    "import numpy as np\n",
    "import networkx as nx\n",
    "\n",
    "for i in range(len(df)):\n",
    "\n",
    "  def read_article(file_name):\n",
    "      article = cleaned_article_ls[i].split(\". \")\n",
    "      sentences = []\n",
    "\n",
    "      for sentence in article:\n",
    "          #print(sentence)\n",
    "          sentences.append(sentence.replace(\"[^a-zA-Z]\", \" \").split(\" \"))\n",
    "      sentences.pop()  \n",
    "      \n",
    "      return sentences\n",
    "\n",
    "  def sentence_similarity(sent1, sent2, stopwords=None):\n",
    "      if stopwords is None:\n",
    "          stopwords = []\n",
    "  \n",
    "      sent1 = [w.lower() for w in sent1]\n",
    "      sent2 = [w.lower() for w in sent2]\n",
    "  \n",
    "      all_words = list(set(sent1 + sent2))\n",
    "  \n",
    "      vector1 = [0] * len(all_words)\n",
    "      vector2 = [0] * len(all_words)\n",
    "  \n",
    "      # build the vector for the first sentence\n",
    "      for w in sent1:\n",
    "          if w in stopwords:\n",
    "              continue\n",
    "          vector1[all_words.index(w)] += 1\n",
    "  \n",
    "      # build the vector for the second sentence\n",
    "      for w in sent2:\n",
    "          if w in stopwords:\n",
    "              continue\n",
    "          vector2[all_words.index(w)] += 1\n",
    "  \n",
    "      return 1 - cosine_distance(vector1, vector2)\n",
    "  \n",
    "  def build_similarity_matrix(sentences, stop_words):\n",
    "      # Create an empty similarity matrix\n",
    "      similarity_matrix = np.zeros((len(sentences), len(sentences)))\n",
    "  \n",
    "      for idx1 in range(len(sentences)):\n",
    "          for idx2 in range(len(sentences)):\n",
    "              if idx1 == idx2: #ignore if both are same sentences\n",
    "                  continue \n",
    "              similarity_matrix[idx1][idx2] = sentence_similarity(sentences[idx1], sentences[idx2], stop_words)\n",
    "\n",
    "      return similarity_matrix\n",
    "\n",
    "\n",
    "  def generate_summary(file_name, top_n=5):\n",
    "      stop_words = stopwords.words('english')\n",
    "      summarize_text = []\n",
    "\n",
    "      # Step 1 - Read text anc split it\n",
    "      sentences =  read_article(file_name)\n",
    "\n",
    "      # Step 2 - Generate Similary Martix across sentences\n",
    "      sentence_similarity_martix = build_similarity_matrix(sentences, stop_words)\n",
    "\n",
    "      # Step 3 - Rank sentences in similarity martix\n",
    "      sentence_similarity_graph = nx.from_numpy_array(sentence_similarity_martix)\n",
    "      scores = nx.pagerank(sentence_similarity_graph)\n",
    "\n",
    "      # Step 4 - Sort the rank and pick top sentences\n",
    "      ranked_sentence = sorted(((scores[i],s) for i,s in enumerate(sentences)), reverse=True)    \n",
    "      #print(\"Indexes of top ranked_sentence order are \", ranked_sentence)    \n",
    "\n",
    "      for i in range(top_n):\n",
    "        summarize_text.append(\" \".join(ranked_sentence[i][1]))\n",
    "\n",
    "      # Step 5 - Offcourse, output the summarize texr\n",
    "      print(\"Summarize Text: \\n\", \". \".join(summarize_text))\n",
    "      lis_to_str = '. '.join(str(x) for x in summarize_text)\n",
    "      send_to_df_lis.append(lis_to_str)\n",
    "      print('---------------------------------------')\n",
    "\n",
    "      \n",
    "\n",
    "  # let's begin\n",
    "  generate_summary( \"msft.txt\", 2)"
   ],
   "metadata": {
    "id": "TdTMIW4V2PjG",
    "colab": {
     "base_uri": "https://localhost:8080/"
    },
    "outputId": "c63ad64a-9446-4e2a-9d92-bc2b968bef98",
    "pycharm": {
     "name": "#%%\n"
    }
   },
   "execution_count": 29,
   "outputs": [
    {
     "output_type": "stream",
     "name": "stdout",
     "text": [
      "Summarize Text: \n",
      " agricultural information project farmers chancay-huaral valley also provide vital link local organisations charge water irrigation enable coordinate actions. \"throughout last three years people provide vital thrust project feel belong \" say mr saldarriaga\n",
      "---------------------------------------\n",
      "Summarize Text: \n",
      " \" also say childcare job really women suitable men. women full-time work earn 19% less men accord equal opportunities commission (eoc).\n",
      "\n",
      " minister tell delegate get rid \"career sexism\" vital close gender pay gap.\n",
      "\n",
      "\"career sexism limit opportunities women age prevent achieve full potential\n",
      "---------------------------------------\n",
      "Summarize Text: \n",
      " say one laptop per child could \" important development child whole family village neighbourhood\". say child could use laptop like text book\n",
      "---------------------------------------\n",
      "Summarize Text: \n",
      " art world \"fantastically rich\" say mr stone creative people ideas mean traditional company like bt want get . \" hop understand creative industry natural thirst broadband technology\" say frank stone head bt business sector programmes\n",
      "---------------------------------------\n",
      "Summarize Text: \n",
      " people become aware online security issue little confidence company enough counter threats say security firm rsa carry poll. solutions net security fears\n",
      "\n",
      "fake bank e-mail phishing stories id theft damage potential use net online commerce say e-business experts.\n",
      "\n",
      "trust online security fall result\n",
      "---------------------------------------\n"
     ]
    }
   ]
  },
  {
   "cell_type": "code",
   "source": [
    "for i in range(len(df)):\n",
    "  df.iat[i,3] = send_to_df_lis[i]"
   ],
   "metadata": {
    "id": "5zqV3bTqopaG",
    "pycharm": {
     "name": "#%%\n"
    }
   },
   "execution_count": 30,
   "outputs": []
  },
  {
   "cell_type": "code",
   "source": [
    "df"
   ],
   "metadata": {
    "id": "X_gOXbiuPC0c",
    "colab": {
     "base_uri": "https://localhost:8080/",
     "height": 206
    },
    "outputId": "3ba7e787-c53c-4f12-d1d6-1ff7daa447cf",
    "pycharm": {
     "name": "#%%\n"
    }
   },
   "execution_count": 31,
   "outputs": [
    {
     "output_type": "execute_result",
     "data": {
      "text/plain": [
       "      File name                                            Content  \\\n",
       "0  Article1.txt  Wi-fi web reaches farmers in Peru\\n\\nA network...   \n",
       "1  Article2.txt  Hewitt decries 'career sexism'\\n\\nPlans to ext...   \n",
       "2  Article3.txt  Digital guru floats sub-$100 PC\\n\\nNicholas Ne...   \n",
       "3  Article4.txt  Technology gets the creative bug\\n\\nThe hi-tec...   \n",
       "4  Article5.txt  Solutions to net security fears\\n\\nFake bank e...   \n",
       "\n",
       "                                     Content_Cleaned  \\\n",
       "0  wi-fi web reach farmers peru\\n\\n network commu...   \n",
       "1  hewitt decry 'career sexism'\\n\\nplans extend p...   \n",
       "2  digital guru float sub-$100 pc\\n\\nnicholas neg...   \n",
       "3  technology get creative bug\\n\\n hi-tech arts w...   \n",
       "4  solutions net security fears\\n\\nfake bank e-ma...   \n",
       "\n",
       "                           Cosine-Similarity Summary  \n",
       "0  agricultural information project farmers chanc...  \n",
       "1  \" also say childcare job really women suitable...  \n",
       "2  say one laptop per child could \" important dev...  \n",
       "3  art world \"fantastically rich\" say mr stone cr...  \n",
       "4  people become aware online security issue litt...  "
      ],
      "text/html": [
       "\n",
       "  <div id=\"df-1c6cd1fc-044d-4cae-a613-30603d9b1ce4\">\n",
       "    <div class=\"colab-df-container\">\n",
       "      <div>\n",
       "<style scoped>\n",
       "    .dataframe tbody tr th:only-of-type {\n",
       "        vertical-align: middle;\n",
       "    }\n",
       "\n",
       "    .dataframe tbody tr th {\n",
       "        vertical-align: top;\n",
       "    }\n",
       "\n",
       "    .dataframe thead th {\n",
       "        text-align: right;\n",
       "    }\n",
       "</style>\n",
       "<table border=\"1\" class=\"dataframe\">\n",
       "  <thead>\n",
       "    <tr style=\"text-align: right;\">\n",
       "      <th></th>\n",
       "      <th>File name</th>\n",
       "      <th>Content</th>\n",
       "      <th>Content_Cleaned</th>\n",
       "      <th>Cosine-Similarity Summary</th>\n",
       "    </tr>\n",
       "  </thead>\n",
       "  <tbody>\n",
       "    <tr>\n",
       "      <th>0</th>\n",
       "      <td>Article1.txt</td>\n",
       "      <td>Wi-fi web reaches farmers in Peru\\n\\nA network...</td>\n",
       "      <td>wi-fi web reach farmers peru\\n\\n network commu...</td>\n",
       "      <td>agricultural information project farmers chanc...</td>\n",
       "    </tr>\n",
       "    <tr>\n",
       "      <th>1</th>\n",
       "      <td>Article2.txt</td>\n",
       "      <td>Hewitt decries 'career sexism'\\n\\nPlans to ext...</td>\n",
       "      <td>hewitt decry 'career sexism'\\n\\nplans extend p...</td>\n",
       "      <td>\" also say childcare job really women suitable...</td>\n",
       "    </tr>\n",
       "    <tr>\n",
       "      <th>2</th>\n",
       "      <td>Article3.txt</td>\n",
       "      <td>Digital guru floats sub-$100 PC\\n\\nNicholas Ne...</td>\n",
       "      <td>digital guru float sub-$100 pc\\n\\nnicholas neg...</td>\n",
       "      <td>say one laptop per child could \" important dev...</td>\n",
       "    </tr>\n",
       "    <tr>\n",
       "      <th>3</th>\n",
       "      <td>Article4.txt</td>\n",
       "      <td>Technology gets the creative bug\\n\\nThe hi-tec...</td>\n",
       "      <td>technology get creative bug\\n\\n hi-tech arts w...</td>\n",
       "      <td>art world \"fantastically rich\" say mr stone cr...</td>\n",
       "    </tr>\n",
       "    <tr>\n",
       "      <th>4</th>\n",
       "      <td>Article5.txt</td>\n",
       "      <td>Solutions to net security fears\\n\\nFake bank e...</td>\n",
       "      <td>solutions net security fears\\n\\nfake bank e-ma...</td>\n",
       "      <td>people become aware online security issue litt...</td>\n",
       "    </tr>\n",
       "  </tbody>\n",
       "</table>\n",
       "</div>\n",
       "      <button class=\"colab-df-convert\" onclick=\"convertToInteractive('df-1c6cd1fc-044d-4cae-a613-30603d9b1ce4')\"\n",
       "              title=\"Convert this dataframe to an interactive table.\"\n",
       "              style=\"display:none;\">\n",
       "        \n",
       "  <svg xmlns=\"http://www.w3.org/2000/svg\" height=\"24px\"viewBox=\"0 0 24 24\"\n",
       "       width=\"24px\">\n",
       "    <path d=\"M0 0h24v24H0V0z\" fill=\"none\"/>\n",
       "    <path d=\"M18.56 5.44l.94 2.06.94-2.06 2.06-.94-2.06-.94-.94-2.06-.94 2.06-2.06.94zm-11 1L8.5 8.5l.94-2.06 2.06-.94-2.06-.94L8.5 2.5l-.94 2.06-2.06.94zm10 10l.94 2.06.94-2.06 2.06-.94-2.06-.94-.94-2.06-.94 2.06-2.06.94z\"/><path d=\"M17.41 7.96l-1.37-1.37c-.4-.4-.92-.59-1.43-.59-.52 0-1.04.2-1.43.59L10.3 9.45l-7.72 7.72c-.78.78-.78 2.05 0 2.83L4 21.41c.39.39.9.59 1.41.59.51 0 1.02-.2 1.41-.59l7.78-7.78 2.81-2.81c.8-.78.8-2.07 0-2.86zM5.41 20L4 18.59l7.72-7.72 1.47 1.35L5.41 20z\"/>\n",
       "  </svg>\n",
       "      </button>\n",
       "      \n",
       "  <style>\n",
       "    .colab-df-container {\n",
       "      display:flex;\n",
       "      flex-wrap:wrap;\n",
       "      gap: 12px;\n",
       "    }\n",
       "\n",
       "    .colab-df-convert {\n",
       "      background-color: #E8F0FE;\n",
       "      border: none;\n",
       "      border-radius: 50%;\n",
       "      cursor: pointer;\n",
       "      display: none;\n",
       "      fill: #1967D2;\n",
       "      height: 32px;\n",
       "      padding: 0 0 0 0;\n",
       "      width: 32px;\n",
       "    }\n",
       "\n",
       "    .colab-df-convert:hover {\n",
       "      background-color: #E2EBFA;\n",
       "      box-shadow: 0px 1px 2px rgba(60, 64, 67, 0.3), 0px 1px 3px 1px rgba(60, 64, 67, 0.15);\n",
       "      fill: #174EA6;\n",
       "    }\n",
       "\n",
       "    [theme=dark] .colab-df-convert {\n",
       "      background-color: #3B4455;\n",
       "      fill: #D2E3FC;\n",
       "    }\n",
       "\n",
       "    [theme=dark] .colab-df-convert:hover {\n",
       "      background-color: #434B5C;\n",
       "      box-shadow: 0px 1px 3px 1px rgba(0, 0, 0, 0.15);\n",
       "      filter: drop-shadow(0px 1px 2px rgba(0, 0, 0, 0.3));\n",
       "      fill: #FFFFFF;\n",
       "    }\n",
       "  </style>\n",
       "\n",
       "      <script>\n",
       "        const buttonEl =\n",
       "          document.querySelector('#df-1c6cd1fc-044d-4cae-a613-30603d9b1ce4 button.colab-df-convert');\n",
       "        buttonEl.style.display =\n",
       "          google.colab.kernel.accessAllowed ? 'block' : 'none';\n",
       "\n",
       "        async function convertToInteractive(key) {\n",
       "          const element = document.querySelector('#df-1c6cd1fc-044d-4cae-a613-30603d9b1ce4');\n",
       "          const dataTable =\n",
       "            await google.colab.kernel.invokeFunction('convertToInteractive',\n",
       "                                                     [key], {});\n",
       "          if (!dataTable) return;\n",
       "\n",
       "          const docLinkHtml = 'Like what you see? Visit the ' +\n",
       "            '<a target=\"_blank\" href=https://colab.research.google.com/notebooks/data_table.ipynb>data table notebook</a>'\n",
       "            + ' to learn more about interactive tables.';\n",
       "          element.innerHTML = '';\n",
       "          dataTable['output_type'] = 'display_data';\n",
       "          await google.colab.output.renderOutput(dataTable, element);\n",
       "          const docLink = document.createElement('div');\n",
       "          docLink.innerHTML = docLinkHtml;\n",
       "          element.appendChild(docLink);\n",
       "        }\n",
       "      </script>\n",
       "    </div>\n",
       "  </div>\n",
       "  "
      ]
     },
     "metadata": {},
     "execution_count": 31
    }
   ]
  },
  {
   "cell_type": "markdown",
   "source": [
    "# **Summary w/ TF-IDF Method**"
   ],
   "metadata": {
    "id": "XLYDLaeVLpvT",
    "pycharm": {
     "name": "#%% md\n"
    }
   }
  },
  {
   "cell_type": "code",
   "source": [
    "df['Tf-IDF Summary'] = np.nan"
   ],
   "metadata": {
    "id": "0DUyKRu2MARk",
    "pycharm": {
     "name": "#%%\n"
    }
   },
   "execution_count": 32,
   "outputs": []
  },
  {
   "cell_type": "code",
   "execution_count": 33,
   "metadata": {
    "id": "M1yz3F-vTD4H",
    "pycharm": {
     "name": "#%%\n"
    }
   },
   "outputs": [],
   "source": [
    "import math\n",
    "\n",
    "from nltk import sent_tokenize, word_tokenize, PorterStemmer\n",
    "from nltk.corpus import stopwords    "
   ]
  },
  {
   "cell_type": "code",
   "source": [
    "def _create_frequency_matrix(sentences):\n",
    "    frequency_matrix = {}\n",
    "    stopWords = set(stopwords.words(\"english\"))\n",
    "    ps = PorterStemmer()\n",
    "\n",
    "    for sent in sentences:\n",
    "        freq_table = {}\n",
    "        words = word_tokenize(sent)\n",
    "        for word in words:\n",
    "            word = word.lower()\n",
    "            word = ps.stem(word)\n",
    "            if word in stopWords:\n",
    "                continue\n",
    "\n",
    "            if word in freq_table:\n",
    "                freq_table[word] += 1\n",
    "            else:\n",
    "                freq_table[word] = 1\n",
    "\n",
    "        frequency_matrix[sent[:15]] = freq_table\n",
    "\n",
    "    return frequency_matrix"
   ],
   "metadata": {
    "id": "s2LnLE6gDheO",
    "pycharm": {
     "name": "#%%\n"
    }
   },
   "execution_count": 34,
   "outputs": []
  },
  {
   "cell_type": "code",
   "source": [
    "def _create_tf_matrix(freq_matrix):\n",
    "    tf_matrix = {}\n",
    "\n",
    "    for sent, f_table in freq_matrix.items():\n",
    "        tf_table = {}\n",
    "\n",
    "        count_words_in_sentence = len(f_table)\n",
    "        for word, count in f_table.items():\n",
    "            tf_table[word] = count / count_words_in_sentence\n",
    "\n",
    "        tf_matrix[sent] = tf_table\n",
    "\n",
    "    return tf_matrix"
   ],
   "metadata": {
    "id": "tfBXdtpPDlsu",
    "pycharm": {
     "name": "#%%\n"
    }
   },
   "execution_count": 35,
   "outputs": []
  },
  {
   "cell_type": "code",
   "source": [
    "def _create_documents_per_words(freq_matrix):\n",
    "    word_per_doc_table = {}\n",
    "\n",
    "    for sent, f_table in freq_matrix.items():\n",
    "        for word, count in f_table.items():\n",
    "            if word in word_per_doc_table:\n",
    "                word_per_doc_table[word] += 1\n",
    "            else:\n",
    "                word_per_doc_table[word] = 1\n",
    "\n",
    "    return word_per_doc_table"
   ],
   "metadata": {
    "id": "Prl4_2-6D0Dv",
    "pycharm": {
     "name": "#%%\n"
    }
   },
   "execution_count": 36,
   "outputs": []
  },
  {
   "cell_type": "code",
   "source": [
    "def _create_idf_matrix(freq_matrix, count_doc_per_words, total_documents):\n",
    "    idf_matrix = {}\n",
    "\n",
    "    for sent, f_table in freq_matrix.items():\n",
    "        idf_table = {}\n",
    "\n",
    "        for word in f_table.keys():\n",
    "            idf_table[word] = math.log10(total_documents / float(count_doc_per_words[word]))\n",
    "\n",
    "        idf_matrix[sent] = idf_table\n",
    "\n",
    "    return idf_matrix"
   ],
   "metadata": {
    "id": "sC6PoS5aD4iz",
    "pycharm": {
     "name": "#%%\n"
    }
   },
   "execution_count": 37,
   "outputs": []
  },
  {
   "cell_type": "code",
   "source": [
    "def _create_tf_idf_matrix(tf_matrix, idf_matrix):\n",
    "    tf_idf_matrix = {}\n",
    "\n",
    "    for (sent1, f_table1), (sent2, f_table2) in zip(tf_matrix.items(), idf_matrix.items()):\n",
    "\n",
    "        tf_idf_table = {}\n",
    "\n",
    "        for (word1, value1), (word2, value2) in zip(f_table1.items(),\n",
    "                                                    f_table2.items()):  # here, keys are the same in both the table\n",
    "            tf_idf_table[word1] = float(value1 * value2)\n",
    "\n",
    "        tf_idf_matrix[sent1] = tf_idf_table\n",
    "\n",
    "    return tf_idf_matrix"
   ],
   "metadata": {
    "id": "pZ5xypW-D7Mw",
    "pycharm": {
     "name": "#%%\n"
    }
   },
   "execution_count": 38,
   "outputs": []
  },
  {
   "cell_type": "code",
   "source": [
    "def _score_sentences(tf_idf_matrix) -> dict:\n",
    "    \"\"\"\n",
    "    score a sentence by its word's TF\n",
    "    Basic algorithm: adding the TF frequency of every non-stop word in a sentence divided by total no of words in a sentence.\n",
    "    :rtype: dict\n",
    "    \"\"\"\n",
    "\n",
    "    sentenceValue = {}\n",
    "\n",
    "    for sent, f_table in tf_idf_matrix.items():\n",
    "        total_score_per_sentence = 0\n",
    "\n",
    "        count_words_in_sentence = len(f_table)\n",
    "        for word, score in f_table.items():\n",
    "            total_score_per_sentence += score\n",
    "\n",
    "        sentenceValue[sent] = total_score_per_sentence / count_words_in_sentence\n",
    "\n",
    "    return sentenceValue"
   ],
   "metadata": {
    "id": "yXqXOk9-EDR5",
    "pycharm": {
     "name": "#%%\n"
    }
   },
   "execution_count": 39,
   "outputs": []
  },
  {
   "cell_type": "code",
   "source": [
    "def _find_average_score(sentenceValue) -> int:\n",
    "    \"\"\"\n",
    "    Find the average score from the sentence value dictionary\n",
    "    :rtype: int\n",
    "    \"\"\"\n",
    "    sumValues = 0\n",
    "    for entry in sentenceValue:\n",
    "        sumValues += sentenceValue[entry]\n",
    "\n",
    "    # Average value of a sentence from original summary_text\n",
    "    average = (sumValues / len(sentenceValue))\n",
    "\n",
    "    return average"
   ],
   "metadata": {
    "id": "TYpIUlnbESt1",
    "pycharm": {
     "name": "#%%\n"
    }
   },
   "execution_count": 40,
   "outputs": []
  },
  {
   "cell_type": "code",
   "source": [
    "def _generate_summary(sentences, sentenceValue, threshold):\n",
    "    sentence_count = 0\n",
    "    summary = ''\n",
    "\n",
    "    for sentence in sentences:\n",
    "        if sentence[:15] in sentenceValue and sentenceValue[sentence[:15]] >= (threshold):\n",
    "            summary += \" \" + sentence\n",
    "            sentence_count += 1\n",
    "\n",
    "    return summary"
   ],
   "metadata": {
    "id": "ZFsRJIhOET_X",
    "pycharm": {
     "name": "#%%\n"
    }
   },
   "execution_count": 41,
   "outputs": []
  },
  {
   "cell_type": "code",
   "source": [
    "import math\n",
    "\n",
    "from nltk import sent_tokenize, word_tokenize, PorterStemmer\n",
    "from nltk.corpus import stopwords \n",
    "\n",
    "import nltk\n",
    "nltk.download('punkt')\n",
    "nltk.download('stopwords')\n",
    "    "
   ],
   "metadata": {
    "colab": {
     "base_uri": "https://localhost:8080/"
    },
    "id": "NWI-v77hEdtC",
    "outputId": "b24d3a38-0780-486c-8a63-a8b8d677f2d4",
    "pycharm": {
     "name": "#%%\n"
    }
   },
   "execution_count": 42,
   "outputs": [
    {
     "output_type": "stream",
     "name": "stderr",
     "text": [
      "[nltk_data] Downloading package punkt to /root/nltk_data...\n",
      "[nltk_data]   Package punkt is already up-to-date!\n",
      "[nltk_data] Downloading package stopwords to /root/nltk_data...\n",
      "[nltk_data]   Package stopwords is already up-to-date!\n"
     ]
    },
    {
     "output_type": "execute_result",
     "data": {
      "text/plain": [
       "True"
      ]
     },
     "metadata": {},
     "execution_count": 42
    }
   ]
  },
  {
   "cell_type": "code",
   "source": [
    "clean_sent_sum = []"
   ],
   "metadata": {
    "id": "0vkmUSvAWQsL",
    "pycharm": {
     "name": "#%%\n"
    }
   },
   "execution_count": 43,
   "outputs": []
  },
  {
   "cell_type": "code",
   "source": [
    "\n",
    "for i in range(len(df)):\n",
    "\n",
    "  # 1 Sentence Tokenize\n",
    "  sentences = sent_tokenize(cleaned_article_ls[i])\n",
    "  total_documents = len(sentences)\n",
    "  #print(sentences)\n",
    "\n",
    "  # 2 Create the Frequency matrix of the words in each sentence.\n",
    "  freq_matrix = _create_frequency_matrix(sentences)\n",
    "  #print(freq_matrix)\n",
    "\n",
    "  # 3 Calculate TermFrequency and generate a matrix\n",
    "  tf_matrix = _create_tf_matrix(freq_matrix)\n",
    "  #print(tf_matrix)\n",
    "\n",
    "  # 4 creating table for documents per words\n",
    "  count_doc_per_words = _create_documents_per_words(freq_matrix)\n",
    "  #print(count_doc_per_words)\n",
    "\n",
    "  # 5 Calculate IDF and generate a matrix\n",
    "  idf_matrix = _create_idf_matrix(freq_matrix, count_doc_per_words, total_documents)\n",
    "  #print(idf_matrix)\n",
    "\n",
    "  # 6 Calculate TF-IDF and generate a matrix\n",
    "  tf_idf_matrix = _create_tf_idf_matrix(tf_matrix, idf_matrix)\n",
    "  #print(tf_idf_matrix)\n",
    "\n",
    "  # 7 Important Algorithm: score the sentences\n",
    "  sentence_scores = _score_sentences(tf_idf_matrix)\n",
    "  #print(sentence_scores)\n",
    "\n",
    "  # 8 Find the threshold\n",
    "  threshold = _find_average_score(sentence_scores)\n",
    "  #print(threshold)\n",
    "\n",
    "  # 9 Important Algorithm: Generate the summary\n",
    "  summary = _generate_summary(sentences, sentence_scores, 1.3 * threshold)\n",
    "  #print(summary)\n",
    "\n",
    "  clean_sent_sum.append(summary)"
   ],
   "metadata": {
    "id": "WVJtidlTNtY9",
    "pycharm": {
     "name": "#%%\n"
    }
   },
   "execution_count": null,
   "outputs": []
  },
  {
   "cell_type": "code",
   "source": [
    "for i in range(len(df)):\n",
    "  df.iat[i,4] = clean_sent_sum[i]"
   ],
   "metadata": {
    "id": "84zBOMkr8quM",
    "pycharm": {
     "name": "#%%\n"
    }
   },
   "execution_count": 46,
   "outputs": []
  },
  {
   "cell_type": "code",
   "source": [
    "df"
   ],
   "metadata": {
    "colab": {
     "base_uri": "https://localhost:8080/",
     "height": 2413
    },
    "id": "nN24noI19Nso",
    "outputId": "2f9c6a0a-4019-4f52-feeb-7a497c8d9f25",
    "pycharm": {
     "name": "#%%\n"
    }
   },
   "execution_count": 47,
   "outputs": [
    {
     "output_type": "execute_result",
     "data": {
      "text/plain": [
       "      File name                                            Content  \\\n",
       "0  Article1.txt  Wi-fi web reaches farmers in Peru\\n\\nA network...   \n",
       "1  Article2.txt  Hewitt decries 'career sexism'\\n\\nPlans to ext...   \n",
       "2  Article3.txt  Digital guru floats sub-$100 PC\\n\\nNicholas Ne...   \n",
       "3  Article4.txt  Technology gets the creative bug\\n\\nThe hi-tec...   \n",
       "4  Article5.txt  Solutions to net security fears\\n\\nFake bank e...   \n",
       "\n",
       "                                     Content_Cleaned  \\\n",
       "0  wi-fi web reach farmers peru\\n\\n network commu...   \n",
       "1  hewitt decry 'career sexism'\\n\\nplans extend p...   \n",
       "2  digital guru float sub-$100 pc\\n\\nnicholas neg...   \n",
       "3  technology get creative bug\\n\\n hi-tech arts w...   \n",
       "4  solutions net security fears\\n\\nfake bank e-ma...   \n",
       "\n",
       "                           Cosine-Similarity Summary  \\\n",
       "0  agricultural information project farmers chanc...   \n",
       "1  \" also say childcare job really women suitable...   \n",
       "2  say one laptop per child could \" important dev...   \n",
       "3  art world \"fantastically rich\" say mr stone cr...   \n",
       "4  people become aware online security issue litt...   \n",
       "\n",
       "                                      Tf-IDF Summary  \n",
       "0   network three years make officially inaugurat...  \n",
       "1   look quickly obviously cost implications taxp...  \n",
       "2   device probably export kit part assemble loca...  \n",
       "3   vice versa. industry grow 6% year . put art g...  \n",
       "4   trust online security fall result. worry shop...  "
      ],
      "text/html": [
       "\n",
       "  <div id=\"df-7ad62577-9aa2-47f7-b250-5a12d5650be0\">\n",
       "    <div class=\"colab-df-container\">\n",
       "      <div>\n",
       "<style scoped>\n",
       "    .dataframe tbody tr th:only-of-type {\n",
       "        vertical-align: middle;\n",
       "    }\n",
       "\n",
       "    .dataframe tbody tr th {\n",
       "        vertical-align: top;\n",
       "    }\n",
       "\n",
       "    .dataframe thead th {\n",
       "        text-align: right;\n",
       "    }\n",
       "</style>\n",
       "<table border=\"1\" class=\"dataframe\">\n",
       "  <thead>\n",
       "    <tr style=\"text-align: right;\">\n",
       "      <th></th>\n",
       "      <th>File name</th>\n",
       "      <th>Content</th>\n",
       "      <th>Content_Cleaned</th>\n",
       "      <th>Cosine-Similarity Summary</th>\n",
       "      <th>Tf-IDF Summary</th>\n",
       "    </tr>\n",
       "  </thead>\n",
       "  <tbody>\n",
       "    <tr>\n",
       "      <th>0</th>\n",
       "      <td>Article1.txt</td>\n",
       "      <td>Wi-fi web reaches farmers in Peru\\n\\nA network...</td>\n",
       "      <td>wi-fi web reach farmers peru\\n\\n network commu...</td>\n",
       "      <td>agricultural information project farmers chanc...</td>\n",
       "      <td>network three years make officially inaugurat...</td>\n",
       "    </tr>\n",
       "    <tr>\n",
       "      <th>1</th>\n",
       "      <td>Article2.txt</td>\n",
       "      <td>Hewitt decries 'career sexism'\\n\\nPlans to ext...</td>\n",
       "      <td>hewitt decry 'career sexism'\\n\\nplans extend p...</td>\n",
       "      <td>\" also say childcare job really women suitable...</td>\n",
       "      <td>look quickly obviously cost implications taxp...</td>\n",
       "    </tr>\n",
       "    <tr>\n",
       "      <th>2</th>\n",
       "      <td>Article3.txt</td>\n",
       "      <td>Digital guru floats sub-$100 PC\\n\\nNicholas Ne...</td>\n",
       "      <td>digital guru float sub-$100 pc\\n\\nnicholas neg...</td>\n",
       "      <td>say one laptop per child could \" important dev...</td>\n",
       "      <td>device probably export kit part assemble loca...</td>\n",
       "    </tr>\n",
       "    <tr>\n",
       "      <th>3</th>\n",
       "      <td>Article4.txt</td>\n",
       "      <td>Technology gets the creative bug\\n\\nThe hi-tec...</td>\n",
       "      <td>technology get creative bug\\n\\n hi-tech arts w...</td>\n",
       "      <td>art world \"fantastically rich\" say mr stone cr...</td>\n",
       "      <td>vice versa. industry grow 6% year . put art g...</td>\n",
       "    </tr>\n",
       "    <tr>\n",
       "      <th>4</th>\n",
       "      <td>Article5.txt</td>\n",
       "      <td>Solutions to net security fears\\n\\nFake bank e...</td>\n",
       "      <td>solutions net security fears\\n\\nfake bank e-ma...</td>\n",
       "      <td>people become aware online security issue litt...</td>\n",
       "      <td>trust online security fall result. worry shop...</td>\n",
       "    </tr>\n",
       "  </tbody>\n",
       "</table>\n",
       "</div>\n",
       "      <button class=\"colab-df-convert\" onclick=\"convertToInteractive('df-7ad62577-9aa2-47f7-b250-5a12d5650be0')\"\n",
       "              title=\"Convert this dataframe to an interactive table.\"\n",
       "              style=\"display:none;\">\n",
       "        \n",
       "  <svg xmlns=\"http://www.w3.org/2000/svg\" height=\"24px\"viewBox=\"0 0 24 24\"\n",
       "       width=\"24px\">\n",
       "    <path d=\"M0 0h24v24H0V0z\" fill=\"none\"/>\n",
       "    <path d=\"M18.56 5.44l.94 2.06.94-2.06 2.06-.94-2.06-.94-.94-2.06-.94 2.06-2.06.94zm-11 1L8.5 8.5l.94-2.06 2.06-.94-2.06-.94L8.5 2.5l-.94 2.06-2.06.94zm10 10l.94 2.06.94-2.06 2.06-.94-2.06-.94-.94-2.06-.94 2.06-2.06.94z\"/><path d=\"M17.41 7.96l-1.37-1.37c-.4-.4-.92-.59-1.43-.59-.52 0-1.04.2-1.43.59L10.3 9.45l-7.72 7.72c-.78.78-.78 2.05 0 2.83L4 21.41c.39.39.9.59 1.41.59.51 0 1.02-.2 1.41-.59l7.78-7.78 2.81-2.81c.8-.78.8-2.07 0-2.86zM5.41 20L4 18.59l7.72-7.72 1.47 1.35L5.41 20z\"/>\n",
       "  </svg>\n",
       "      </button>\n",
       "      \n",
       "  <style>\n",
       "    .colab-df-container {\n",
       "      display:flex;\n",
       "      flex-wrap:wrap;\n",
       "      gap: 12px;\n",
       "    }\n",
       "\n",
       "    .colab-df-convert {\n",
       "      background-color: #E8F0FE;\n",
       "      border: none;\n",
       "      border-radius: 50%;\n",
       "      cursor: pointer;\n",
       "      display: none;\n",
       "      fill: #1967D2;\n",
       "      height: 32px;\n",
       "      padding: 0 0 0 0;\n",
       "      width: 32px;\n",
       "    }\n",
       "\n",
       "    .colab-df-convert:hover {\n",
       "      background-color: #E2EBFA;\n",
       "      box-shadow: 0px 1px 2px rgba(60, 64, 67, 0.3), 0px 1px 3px 1px rgba(60, 64, 67, 0.15);\n",
       "      fill: #174EA6;\n",
       "    }\n",
       "\n",
       "    [theme=dark] .colab-df-convert {\n",
       "      background-color: #3B4455;\n",
       "      fill: #D2E3FC;\n",
       "    }\n",
       "\n",
       "    [theme=dark] .colab-df-convert:hover {\n",
       "      background-color: #434B5C;\n",
       "      box-shadow: 0px 1px 3px 1px rgba(0, 0, 0, 0.15);\n",
       "      filter: drop-shadow(0px 1px 2px rgba(0, 0, 0, 0.3));\n",
       "      fill: #FFFFFF;\n",
       "    }\n",
       "  </style>\n",
       "\n",
       "      <script>\n",
       "        const buttonEl =\n",
       "          document.querySelector('#df-7ad62577-9aa2-47f7-b250-5a12d5650be0 button.colab-df-convert');\n",
       "        buttonEl.style.display =\n",
       "          google.colab.kernel.accessAllowed ? 'block' : 'none';\n",
       "\n",
       "        async function convertToInteractive(key) {\n",
       "          const element = document.querySelector('#df-7ad62577-9aa2-47f7-b250-5a12d5650be0');\n",
       "          const dataTable =\n",
       "            await google.colab.kernel.invokeFunction('convertToInteractive',\n",
       "                                                     [key], {});\n",
       "          if (!dataTable) return;\n",
       "\n",
       "          const docLinkHtml = 'Like what you see? Visit the ' +\n",
       "            '<a target=\"_blank\" href=https://colab.research.google.com/notebooks/data_table.ipynb>data table notebook</a>'\n",
       "            + ' to learn more about interactive tables.';\n",
       "          element.innerHTML = '';\n",
       "          dataTable['output_type'] = 'display_data';\n",
       "          await google.colab.output.renderOutput(dataTable, element);\n",
       "          const docLink = document.createElement('div');\n",
       "          docLink.innerHTML = docLinkHtml;\n",
       "          element.appendChild(docLink);\n",
       "        }\n",
       "      </script>\n",
       "    </div>\n",
       "  </div>\n",
       "  "
      ]
     },
     "metadata": {},
     "execution_count": 47
    }
   ]
  }
 ]
}