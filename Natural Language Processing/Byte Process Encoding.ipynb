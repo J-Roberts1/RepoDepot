{
 "nbformat": 4,
 "nbformat_minor": 0,
 "metadata": {
  "colab": {
   "provenance": []
  },
  "kernelspec": {
   "name": "python3",
   "display_name": "Python 3"
  },
  "language_info": {
   "name": "python"
  }
 },
 "cells": [
  {
   "cell_type": "code",
   "source": [
    "!pip install bpe"
   ],
   "metadata": {
    "id": "0C0GlwaEYtjQ",
    "pycharm": {
     "name": "#%%\n"
    }
   },
   "execution_count": null,
   "outputs": []
  },
  {
   "cell_type": "code",
   "source": [
    "from bpe import Encoder\n",
    "from collections import Counter, defaultdict\n",
    "import re"
   ],
   "metadata": {
    "id": "WutyAEJ1ZCBK",
    "pycharm": {
     "name": "#%%\n"
    }
   },
   "execution_count": 131,
   "outputs": []
  },
  {
   "cell_type": "code",
   "source": [
    "# Build vocabulary from corpus \n",
    "text = \"Baker Betty Lou bought some butter But, it made her batter bitter So, Baker Betty Lou bought some better butter to make her bitter batter better\"\n",
    "vocab = collections.defaultdict(int)\n",
    "\n",
    "split_text = [\" \".join(word) + \" </_>\" for word in text.split()]\n",
    "\n",
    "for i in split_text:\n",
    "       \n",
    "    # The default value is 0\n",
    "    # so there is no need to \n",
    "    # enter the key first\n",
    "    vocab[i] += 1"
   ],
   "metadata": {
    "id": "JXx8fR8XbCQy",
    "pycharm": {
     "name": "#%%\n"
    }
   },
   "execution_count": 132,
   "outputs": []
  },
  {
   "cell_type": "code",
   "source": [
    "# Count frequency of tokens from corpus \n",
    "vocab"
   ],
   "metadata": {
    "colab": {
     "base_uri": "https://localhost:8080/"
    },
    "id": "rql-POV0dRhu",
    "outputId": "7f952bf3-c79b-4012-d35a-f29e79d7a9fc",
    "pycharm": {
     "name": "#%%\n"
    }
   },
   "execution_count": 133,
   "outputs": [
    {
     "output_type": "execute_result",
     "data": {
      "text/plain": [
       "defaultdict(int,\n",
       "            {'B a k e r </_>': 2,\n",
       "             'B e t t y </_>': 2,\n",
       "             'L o u </_>': 2,\n",
       "             'b o u g h t </_>': 2,\n",
       "             's o m e </_>': 2,\n",
       "             'b u t t e r </_>': 2,\n",
       "             'B u t , </_>': 1,\n",
       "             'i t </_>': 1,\n",
       "             'm a d e </_>': 1,\n",
       "             'h e r </_>': 2,\n",
       "             'b a t t e r </_>': 2,\n",
       "             'b i t t e r </_>': 2,\n",
       "             'S o , </_>': 1,\n",
       "             'b e t t e r </_>': 2,\n",
       "             't o </_>': 1,\n",
       "             'm a k e </_>': 1})"
      ]
     },
     "metadata": {},
     "execution_count": 133
    }
   ]
  },
  {
   "cell_type": "code",
   "source": [
    "#Count individual elements of tokens, used to process pairs\n",
    "import collections\n",
    "char_dict = collections.defaultdict(int)\n",
    "for word, frequency in vocab.items():\n",
    "    chars = word.split()\n",
    "    for char in chars:\n",
    "        char_dict[char] += frequency\n",
    "\n",
    "char_dict\n"
   ],
   "metadata": {
    "colab": {
     "base_uri": "https://localhost:8080/"
    },
    "id": "qjrtqKJjHI3N",
    "outputId": "4074c9e9-fe21-48fc-ad2d-254c2f06dcfe",
    "pycharm": {
     "name": "#%%\n"
    }
   },
   "execution_count": 134,
   "outputs": [
    {
     "output_type": "execute_result",
     "data": {
      "text/plain": [
       "defaultdict(int,\n",
       "            {'B': 5,\n",
       "             'a': 6,\n",
       "             'k': 3,\n",
       "             'e': 20,\n",
       "             'r': 12,\n",
       "             '</_>': 26,\n",
       "             't': 25,\n",
       "             'y': 2,\n",
       "             'L': 2,\n",
       "             'o': 8,\n",
       "             'u': 7,\n",
       "             'b': 10,\n",
       "             'g': 2,\n",
       "             'h': 4,\n",
       "             's': 2,\n",
       "             'm': 4,\n",
       "             ',': 2,\n",
       "             'i': 3,\n",
       "             'd': 1,\n",
       "             'S': 1})"
      ]
     },
     "metadata": {},
     "execution_count": 134
    }
   ]
  },
  {
   "cell_type": "code",
   "source": [
    "# Get counts of paired characters \n",
    "import re\n",
    "\n",
    "## create all possible consecutive pairs\n",
    "pairs = collections.defaultdict(int)\n",
    "for word, frequency in vocab.items():\n",
    "    chars = word.split()\n",
    "    for i in range(len(chars)-1):\n",
    "        pairs[chars[i], chars[i+1]] += frequency\n",
    "\n",
    "pairs"
   ],
   "metadata": {
    "colab": {
     "base_uri": "https://localhost:8080/"
    },
    "id": "jaatayM0fEZx",
    "outputId": "4fe3eebc-3fde-484f-8387-4c2dd590b2f5",
    "pycharm": {
     "name": "#%%\n"
    }
   },
   "execution_count": 135,
   "outputs": [
    {
     "output_type": "execute_result",
     "data": {
      "text/plain": [
       "defaultdict(int,\n",
       "            {('B', 'a'): 2,\n",
       "             ('a', 'k'): 3,\n",
       "             ('k', 'e'): 3,\n",
       "             ('e', 'r'): 12,\n",
       "             ('r', '</_>'): 12,\n",
       "             ('B', 'e'): 2,\n",
       "             ('e', 't'): 4,\n",
       "             ('t', 't'): 10,\n",
       "             ('t', 'y'): 2,\n",
       "             ('y', '</_>'): 2,\n",
       "             ('L', 'o'): 2,\n",
       "             ('o', 'u'): 4,\n",
       "             ('u', '</_>'): 2,\n",
       "             ('b', 'o'): 2,\n",
       "             ('u', 'g'): 2,\n",
       "             ('g', 'h'): 2,\n",
       "             ('h', 't'): 2,\n",
       "             ('t', '</_>'): 3,\n",
       "             ('s', 'o'): 2,\n",
       "             ('o', 'm'): 2,\n",
       "             ('m', 'e'): 2,\n",
       "             ('e', '</_>'): 4,\n",
       "             ('b', 'u'): 2,\n",
       "             ('u', 't'): 3,\n",
       "             ('t', 'e'): 8,\n",
       "             ('B', 'u'): 1,\n",
       "             ('t', ','): 1,\n",
       "             (',', '</_>'): 2,\n",
       "             ('i', 't'): 3,\n",
       "             ('m', 'a'): 2,\n",
       "             ('a', 'd'): 1,\n",
       "             ('d', 'e'): 1,\n",
       "             ('h', 'e'): 2,\n",
       "             ('b', 'a'): 2,\n",
       "             ('a', 't'): 2,\n",
       "             ('b', 'i'): 2,\n",
       "             ('S', 'o'): 1,\n",
       "             ('o', ','): 1,\n",
       "             ('b', 'e'): 2,\n",
       "             ('t', 'o'): 1,\n",
       "             ('o', '</_>'): 1})"
      ]
     },
     "metadata": {},
     "execution_count": 135
    }
   ]
  },
  {
   "cell_type": "code",
   "source": [
    "type(pairs)"
   ],
   "metadata": {
    "colab": {
     "base_uri": "https://localhost:8080/"
    },
    "id": "3f74J7r96Nc-",
    "outputId": "cb3001f8-ac92-488d-ce3e-9e289ea5a85b",
    "pycharm": {
     "name": "#%%\n"
    }
   },
   "execution_count": 129,
   "outputs": [
    {
     "output_type": "execute_result",
     "data": {
      "text/plain": [
       "collections.defaultdict"
      ]
     },
     "metadata": {},
     "execution_count": 129
    }
   ]
  },
  {
   "cell_type": "code",
   "source": [
    "##find the best pairs\n",
    "\n",
    "def get_pairs(vocab):\n",
    "    pairs = collections.defaultdict(int)\n",
    "    for word, freq in vocab.items():\n",
    "        chars = word.split()\n",
    "        for i in range(len(chars)-1):\n",
    "            pairs[chars[i], chars[i+1]] += freq\n",
    "    return pairs\n",
    "\n",
    "def merge_byte_pairs(best_pair, vocab):\n",
    "    print(best_pair)\n",
    "    merged_dict = {}\n",
    "    bigram = re.escape(' '.join(best_pair))\n",
    "    p = re.compile(r'(?<!\\S)' + bigram + r'(?!\\S)')\n",
    "    for word in vocab:\n",
    "        # print(word)\n",
    "        w_out = p.sub(''.join(best_pair), word)\n",
    "        merged_dict[w_out] = vocab[word]\n",
    "    return merged_dict\n",
    "\n",
    "def get_subword_tokens(vocab):\n",
    "    char_dict = collections.defaultdict(int)\n",
    "    for word, freq in vocab.items():\n",
    "        chars = word.split()\n",
    "        for char in chars:\n",
    "            char_dict[char] += freq\n",
    "    return char_dict\n",
    "\n",
    "for i in range(7):\n",
    "    pairs = get_pairs(vocab)\n",
    "    best_pair = max(pairs, key=pairs.get)\n",
    "    print(f\"Iteration {i}: \")\n",
    "    vocab = merge_byte_pairs(best_pair, vocab)\n",
    "    # print(vocab)\n",
    "    subword_tokens = get_subword_tokens(vocab)\n",
    "    print(subword_tokens)\n",
    "    print(len(subword_tokens))\n",
    "    print(\"--------\")"
   ],
   "metadata": {
    "colab": {
     "base_uri": "https://localhost:8080/"
    },
    "id": "U1bRdEgeUQPU",
    "outputId": "91843f3f-e9d3-46b9-b1c3-9a8f0625eb0c",
    "pycharm": {
     "name": "#%%\n"
    }
   },
   "execution_count": 130,
   "outputs": [
    {
     "output_type": "stream",
     "name": "stdout",
     "text": [
      "Iteration 0: \n",
      "('e', 'r')\n",
      "defaultdict(<class 'int'>, {'B': 5, 'a': 6, 'k': 3, 'er': 12, '</_>': 26, 'e': 8, 't': 25, 'y': 2, 'L': 2, 'o': 8, 'u': 7, 'b': 10, 'g': 2, 'h': 4, 's': 2, 'm': 4, ',': 2, 'i': 3, 'd': 1, 'S': 1})\n",
      "20\n",
      "--------\n",
      "Iteration 1: \n",
      "('er', '</_>')\n",
      "defaultdict(<class 'int'>, {'B': 5, 'a': 6, 'k': 3, 'er</_>': 12, 'e': 8, 't': 25, 'y': 2, '</_>': 14, 'L': 2, 'o': 8, 'u': 7, 'b': 10, 'g': 2, 'h': 4, 's': 2, 'm': 4, ',': 2, 'i': 3, 'd': 1, 'S': 1})\n",
      "20\n",
      "--------\n",
      "Iteration 2: \n",
      "('t', 't')\n",
      "defaultdict(<class 'int'>, {'B': 5, 'a': 6, 'k': 3, 'er</_>': 12, 'e': 8, 'tt': 10, 'y': 2, '</_>': 14, 'L': 2, 'o': 8, 'u': 7, 'b': 10, 'g': 2, 'h': 4, 't': 5, 's': 2, 'm': 4, ',': 2, 'i': 3, 'd': 1, 'S': 1})\n",
      "21\n",
      "--------\n",
      "Iteration 3: \n",
      "('tt', 'er</_>')\n",
      "defaultdict(<class 'int'>, {'B': 5, 'a': 6, 'k': 3, 'er</_>': 4, 'e': 8, 'tt': 2, 'y': 2, '</_>': 14, 'L': 2, 'o': 8, 'u': 7, 'b': 10, 'g': 2, 'h': 4, 't': 5, 's': 2, 'm': 4, 'tter</_>': 8, ',': 2, 'i': 3, 'd': 1, 'S': 1})\n",
      "22\n",
      "--------\n",
      "Iteration 4: \n",
      "('o', 'u')\n",
      "defaultdict(<class 'int'>, {'B': 5, 'a': 6, 'k': 3, 'er</_>': 4, 'e': 8, 'tt': 2, 'y': 2, '</_>': 14, 'L': 2, 'ou': 4, 'b': 10, 'g': 2, 'h': 4, 't': 5, 's': 2, 'o': 4, 'm': 4, 'u': 3, 'tter</_>': 8, ',': 2, 'i': 3, 'd': 1, 'S': 1})\n",
      "23\n",
      "--------\n",
      "Iteration 5: \n",
      "('e', '</_>')\n",
      "defaultdict(<class 'int'>, {'B': 5, 'a': 6, 'k': 3, 'er</_>': 4, 'e': 4, 'tt': 2, 'y': 2, '</_>': 10, 'L': 2, 'ou': 4, 'b': 10, 'g': 2, 'h': 4, 't': 5, 's': 2, 'o': 4, 'm': 4, 'e</_>': 4, 'u': 3, 'tter</_>': 8, ',': 2, 'i': 3, 'd': 1, 'S': 1})\n",
      "24\n",
      "--------\n",
      "Iteration 6: \n",
      "('a', 'k')\n",
      "defaultdict(<class 'int'>, {'B': 5, 'ak': 3, 'er</_>': 4, 'e': 4, 'tt': 2, 'y': 2, '</_>': 10, 'L': 2, 'ou': 4, 'b': 10, 'g': 2, 'h': 4, 't': 5, 's': 2, 'o': 4, 'm': 4, 'e</_>': 4, 'u': 3, 'tter</_>': 8, ',': 2, 'i': 3, 'a': 3, 'd': 1, 'S': 1})\n",
      "24\n",
      "--------\n"
     ]
    }
   ]
  }
 ]
}